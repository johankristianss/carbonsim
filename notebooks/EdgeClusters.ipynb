{
 "cells": [
  {
   "cell_type": "code",
   "execution_count": 1,
   "id": "d702ae3f-d6eb-42f8-8b8a-31248a4ded16",
   "metadata": {},
   "outputs": [
    {
     "name": "stdout",
     "output_type": "stream",
     "text": [
      "Total GPUs: 327\n"
     ]
    }
   ],
   "source": [
    "import json\n",
    "\n",
    "with open('/scratch/cognit/edge-clusters.json', 'r') as file:\n",
    "    data = json.load(file)\n",
    "\n",
    "total_gpus = 0\n",
    "\n",
    "for entry in data:\n",
    "    total_gpus += entry['nodes'] * entry['gpus_per_node']\n",
    "\n",
    "print(f\"Total GPUs: {total_gpus}\")"
   ]
  },
  {
   "cell_type": "code",
   "execution_count": 2,
   "id": "c6e0258c-beb9-474c-be2e-e47b30e5a06a",
   "metadata": {},
   "outputs": [
    {
     "name": "stdout",
     "output_type": "stream",
     "text": [
      "EdgeCluster: Lulea, First Date Carbon Intensity: 53\n",
      "EdgeCluster: Stockholm, First Date Carbon Intensity: 20\n",
      "EdgeCluster: Lund, First Date Carbon Intensity: 53\n",
      "EdgeCluster: Amsterdam, First Date Carbon Intensity: 99\n",
      "EdgeCluster: Brussel, First Date Carbon Intensity: 63\n",
      "EdgeCluster: Berlin, First Date Carbon Intensity: 211\n",
      "EdgeCluster: Rome, First Date Carbon Intensity: 180\n",
      "EdgeCluster: Warsaw, First Date Carbon Intensity: 767\n",
      "EdgeCluster: Paris, First Date Carbon Intensity: 18\n",
      "EdgeCluster: London, First Date Carbon Intensity: 117\n",
      "EdgeCluster: Copenhagen, First Date Carbon Intensity: 83\n",
      "EdgeCluster: Oslo, First Date Carbon Intensity: 25\n",
      "EdgeCluster: Bergen, First Date Carbon Intensity: 25\n",
      "EdgeCluster: Budapest, First Date Carbon Intensity: 133\n",
      "EdgeCluster: Oulu, First Date Carbon Intensity: 48\n",
      "EdgeCluster: Athens, First Date Carbon Intensity: 195\n",
      "EdgeCluster: Vilnius, First Date Carbon Intensity: 74\n",
      "EdgeCluster: Riga, First Date Carbon Intensity: 155\n",
      "EdgeCluster: Vaduz, First Date Carbon Intensity: nan\n",
      "EdgeCluster: VLuxembourg City, First Date Carbon Intensity: 67\n",
      "EdgeCluster: Tallinn, First Date Carbon Intensity: 277\n",
      "EdgeCluster: Zagreb, First Date Carbon Intensity: 127\n",
      "EdgeCluster: Prague, First Date Carbon Intensity: 359\n",
      "EdgeCluster: Sofia, First Date Carbon Intensity: 127\n",
      "EdgeCluster: Zurich, First Date Carbon Intensity: 46\n",
      "EdgeCluster: Nicosia, First Date Carbon Intensity: 690\n",
      "EdgeCluster: Vienna, First Date Carbon Intensity: 48\n",
      "EdgeCluster: Reykjavik, First Date Carbon Intensity: 28\n",
      "EdgeCluster: Bratislava, First Date Carbon Intensity: 169\n",
      "EdgeCluster: Ljubljana, First Date Carbon Intensity: 129\n",
      "EdgeCluster: Valletta, First Date Carbon Intensity: nan\n",
      "EdgeCluster: Bucharest, First Date Carbon Intensity: 265\n",
      "EdgeCluster: Dublin, First Date Carbon Intensity: 408\n",
      "EdgeCluster: Trondheim, First Date Carbon Intensity: 37\n",
      "EdgeCluster: Tromso, First Date Carbon Intensity: 56\n",
      "EdgeCluster: Kristiansand, First Date Carbon Intensity: 24\n"
     ]
    }
   ],
   "source": [
    "import json\n",
    "import pandas as pd\n",
    "\n",
    "with open('/scratch/cognit/edge-clusters.json', 'r') as file:\n",
    "    data = json.load(file)\n",
    "\n",
    "def get_first_carbon_intensity(file_path):\n",
    "    df = pd.read_csv(file_path)\n",
    "    df['datetime'] = pd.to_datetime(df['datetime'])\n",
    "    df = df.sort_values('datetime')\n",
    "    first_date_intensity = df.iloc[0]['carbonIntensity']\n",
    "    return first_date_intensity\n",
    "\n",
    "for entry in data:\n",
    "    name = entry['name']\n",
    "    carbon_intensity_file = entry['carbon-intensity-trace']\n",
    "    first_intensity = get_first_carbon_intensity(carbon_intensity_file)\n",
    "    print(f\"EdgeCluster: {name}, First Date Carbon Intensity: {first_intensity}\")\n"
   ]
  }
 ],
 "metadata": {
  "kernelspec": {
   "display_name": "Python 3 (ipykernel)",
   "language": "python",
   "name": "python3"
  },
  "language_info": {
   "codemirror_mode": {
    "name": "ipython",
    "version": 3
   },
   "file_extension": ".py",
   "mimetype": "text/x-python",
   "name": "python",
   "nbconvert_exporter": "python",
   "pygments_lexer": "ipython3",
   "version": "3.8.10"
  }
 },
 "nbformat": 4,
 "nbformat_minor": 5
}
