{
 "cells": [
  {
   "cell_type": "code",
   "execution_count": 5,
   "id": "49b8e222-c038-4de1-9720-39d74337152c",
   "metadata": {},
   "outputs": [
    {
     "name": "stderr",
     "output_type": "stream",
     "text": [
      "/tmp/ipykernel_85/1096079468.py:55: FutureWarning: The geopandas.dataset module is deprecated and will be removed in GeoPandas 1.0. You can get the original 'naturalearth_lowres' data from https://www.naturalearthdata.com/downloads/110m-cultural-vectors/.\n",
      "  world = gpd.read_file(gpd.datasets.get_path('naturalearth_lowres'))\n"
     ]
    },
    {
     "ename": "AttributeError",
     "evalue": "module 'fiona' has no attribute 'path'",
     "output_type": "error",
     "traceback": [
      "\u001b[0;31m---------------------------------------------------------------------------\u001b[0m",
      "\u001b[0;31mAttributeError\u001b[0m                            Traceback (most recent call last)",
      "Cell \u001b[0;32mIn[5], line 55\u001b[0m\n\u001b[1;32m     50\u001b[0m gdf \u001b[38;5;241m=\u001b[39m gpd\u001b[38;5;241m.\u001b[39mGeoDataFrame(df, geometry\u001b[38;5;241m=\u001b[39mgpd\u001b[38;5;241m.\u001b[39mpoints_from_xy(df\u001b[38;5;241m.\u001b[39mlon, df\u001b[38;5;241m.\u001b[39mlat))\n\u001b[1;32m     52\u001b[0m \u001b[38;5;66;03m# Load a map of Europe\u001b[39;00m\n\u001b[1;32m     53\u001b[0m \u001b[38;5;66;03m#world = gpd.read_file(\"https://www.naturalearthdata.com/downloads/110m-cultural-vectors/\")\u001b[39;00m\n\u001b[0;32m---> 55\u001b[0m world \u001b[38;5;241m=\u001b[39m \u001b[43mgpd\u001b[49m\u001b[38;5;241;43m.\u001b[39;49m\u001b[43mread_file\u001b[49m\u001b[43m(\u001b[49m\u001b[43mgpd\u001b[49m\u001b[38;5;241;43m.\u001b[39;49m\u001b[43mdatasets\u001b[49m\u001b[38;5;241;43m.\u001b[39;49m\u001b[43mget_path\u001b[49m\u001b[43m(\u001b[49m\u001b[38;5;124;43m'\u001b[39;49m\u001b[38;5;124;43mnaturalearth_lowres\u001b[39;49m\u001b[38;5;124;43m'\u001b[39;49m\u001b[43m)\u001b[49m\u001b[43m)\u001b[49m\n\u001b[1;32m     56\u001b[0m europe \u001b[38;5;241m=\u001b[39m world[(world\u001b[38;5;241m.\u001b[39mcontinent \u001b[38;5;241m==\u001b[39m \u001b[38;5;124m\"\u001b[39m\u001b[38;5;124mEurope\u001b[39m\u001b[38;5;124m\"\u001b[39m)]\n\u001b[1;32m     58\u001b[0m \u001b[38;5;66;03m# Plot the map\u001b[39;00m\n",
      "File \u001b[0;32m/usr/local/lib/python3.8/dist-packages/geopandas/io/file.py:281\u001b[0m, in \u001b[0;36m_read_file\u001b[0;34m(filename, bbox, mask, rows, engine, **kwargs)\u001b[0m\n\u001b[1;32m    278\u001b[0m     \u001b[38;5;28;01melse\u001b[39;00m:\n\u001b[1;32m    279\u001b[0m         path_or_bytes \u001b[38;5;241m=\u001b[39m filename\n\u001b[0;32m--> 281\u001b[0m     \u001b[38;5;28;01mreturn\u001b[39;00m \u001b[43m_read_file_fiona\u001b[49m\u001b[43m(\u001b[49m\n\u001b[1;32m    282\u001b[0m \u001b[43m        \u001b[49m\u001b[43mpath_or_bytes\u001b[49m\u001b[43m,\u001b[49m\u001b[43m \u001b[49m\u001b[43mfrom_bytes\u001b[49m\u001b[43m,\u001b[49m\u001b[43m \u001b[49m\u001b[43mbbox\u001b[49m\u001b[38;5;241;43m=\u001b[39;49m\u001b[43mbbox\u001b[49m\u001b[43m,\u001b[49m\u001b[43m \u001b[49m\u001b[43mmask\u001b[49m\u001b[38;5;241;43m=\u001b[39;49m\u001b[43mmask\u001b[49m\u001b[43m,\u001b[49m\u001b[43m \u001b[49m\u001b[43mrows\u001b[49m\u001b[38;5;241;43m=\u001b[39;49m\u001b[43mrows\u001b[49m\u001b[43m,\u001b[49m\u001b[43m \u001b[49m\u001b[38;5;241;43m*\u001b[39;49m\u001b[38;5;241;43m*\u001b[39;49m\u001b[43mkwargs\u001b[49m\n\u001b[1;32m    283\u001b[0m \u001b[43m    \u001b[49m\u001b[43m)\u001b[49m\n\u001b[1;32m    285\u001b[0m \u001b[38;5;28;01melse\u001b[39;00m:\n\u001b[1;32m    286\u001b[0m     \u001b[38;5;28;01mraise\u001b[39;00m \u001b[38;5;167;01mValueError\u001b[39;00m(\u001b[38;5;124mf\u001b[39m\u001b[38;5;124m\"\u001b[39m\u001b[38;5;124munknown engine \u001b[39m\u001b[38;5;124m'\u001b[39m\u001b[38;5;132;01m{\u001b[39;00mengine\u001b[38;5;132;01m}\u001b[39;00m\u001b[38;5;124m'\u001b[39m\u001b[38;5;124m\"\u001b[39m)\n",
      "File \u001b[0;32m/usr/local/lib/python3.8/dist-packages/geopandas/io/file.py:299\u001b[0m, in \u001b[0;36m_read_file_fiona\u001b[0;34m(path_or_bytes, from_bytes, bbox, mask, rows, where, **kwargs)\u001b[0m\n\u001b[1;32m    293\u001b[0m     \u001b[38;5;28;01mraise\u001b[39;00m \u001b[38;5;167;01mNotImplementedError\u001b[39;00m(\u001b[38;5;124m\"\u001b[39m\u001b[38;5;124mwhere requires fiona 1.9+\u001b[39m\u001b[38;5;124m\"\u001b[39m)\n\u001b[1;32m    295\u001b[0m \u001b[38;5;28;01mif\u001b[39;00m \u001b[38;5;129;01mnot\u001b[39;00m from_bytes:\n\u001b[1;32m    296\u001b[0m     \u001b[38;5;66;03m# Opening a file via URL or file-like-object above automatically detects a\u001b[39;00m\n\u001b[1;32m    297\u001b[0m     \u001b[38;5;66;03m# zipped file. In order to match that behavior, attempt to add a zip scheme\u001b[39;00m\n\u001b[1;32m    298\u001b[0m     \u001b[38;5;66;03m# if missing.\u001b[39;00m\n\u001b[0;32m--> 299\u001b[0m     \u001b[38;5;28;01mif\u001b[39;00m \u001b[43m_is_zip\u001b[49m\u001b[43m(\u001b[49m\u001b[38;5;28;43mstr\u001b[39;49m\u001b[43m(\u001b[49m\u001b[43mpath_or_bytes\u001b[49m\u001b[43m)\u001b[49m\u001b[43m)\u001b[49m:\n\u001b[1;32m    300\u001b[0m         parsed \u001b[38;5;241m=\u001b[39m fiona\u001b[38;5;241m.\u001b[39mparse_path(\u001b[38;5;28mstr\u001b[39m(path_or_bytes))\n\u001b[1;32m    301\u001b[0m         \u001b[38;5;28;01mif\u001b[39;00m \u001b[38;5;28misinstance\u001b[39m(parsed, fiona\u001b[38;5;241m.\u001b[39mpath\u001b[38;5;241m.\u001b[39mParsedPath):\n\u001b[1;32m    302\u001b[0m             \u001b[38;5;66;03m# If fiona is able to parse the path, we can safely look at the scheme\u001b[39;00m\n\u001b[1;32m    303\u001b[0m             \u001b[38;5;66;03m# and update it to have a zip scheme if necessary.\u001b[39;00m\n",
      "File \u001b[0;32m/usr/local/lib/python3.8/dist-packages/geopandas/io/file.py:166\u001b[0m, in \u001b[0;36m_is_zip\u001b[0;34m(path)\u001b[0m\n\u001b[1;32m    164\u001b[0m \u001b[38;5;28;01mdef\u001b[39;00m \u001b[38;5;21m_is_zip\u001b[39m(path):\n\u001b[1;32m    165\u001b[0m \u001b[38;5;250m    \u001b[39m\u001b[38;5;124;03m\"\"\"Check if a given path is a zipfile\"\"\"\u001b[39;00m\n\u001b[0;32m--> 166\u001b[0m     parsed \u001b[38;5;241m=\u001b[39m \u001b[43mfiona\u001b[49m\u001b[38;5;241;43m.\u001b[39;49m\u001b[43mpath\u001b[49m\u001b[38;5;241m.\u001b[39mParsedPath\u001b[38;5;241m.\u001b[39mfrom_uri(path)\n\u001b[1;32m    167\u001b[0m     \u001b[38;5;28;01mreturn\u001b[39;00m (\n\u001b[1;32m    168\u001b[0m         parsed\u001b[38;5;241m.\u001b[39marchive\u001b[38;5;241m.\u001b[39mendswith(\u001b[38;5;124m\"\u001b[39m\u001b[38;5;124m.zip\u001b[39m\u001b[38;5;124m\"\u001b[39m)\n\u001b[1;32m    169\u001b[0m         \u001b[38;5;28;01mif\u001b[39;00m parsed\u001b[38;5;241m.\u001b[39marchive\n\u001b[1;32m    170\u001b[0m         \u001b[38;5;28;01melse\u001b[39;00m parsed\u001b[38;5;241m.\u001b[39mpath\u001b[38;5;241m.\u001b[39mendswith(\u001b[38;5;124m\"\u001b[39m\u001b[38;5;124m.zip\u001b[39m\u001b[38;5;124m\"\u001b[39m)\n\u001b[1;32m    171\u001b[0m     )\n",
      "\u001b[0;31mAttributeError\u001b[0m: module 'fiona' has no attribute 'path'"
     ]
    }
   ],
   "source": [
    "import geopandas as gpd\n",
    "import matplotlib.pyplot as plt\n",
    "from shapely.geometry import Point\n",
    "import pandas as pd\n",
    "\n",
    "# List of clusters with coordinates added\n",
    "clusters = [\n",
    "    {\"name\": \"Lulea\", \"nodes\": 6, \"gpus_per_node\": 2, \"carbon-intensity-trace\": \"/scratch/cognit/carbon/SE-SE4.csv\", \"lat\": 65.5848, \"lon\": 22.1547},\n",
    "    {\"name\": \"Stockholm\", \"nodes\": 2, \"gpus_per_node\": 4, \"carbon-intensity-trace\": \"/scratch/cognit/carbon/SE-SE3.csv\", \"lat\": 59.3293, \"lon\": 18.0686},\n",
    "    {\"name\": \"Lund\", \"nodes\": 3, \"gpus_per_node\": 4, \"carbon-intensity-trace\": \"/scratch/cognit/carbon/SE-SE4.csv\", \"lat\": 55.7047, \"lon\": 13.1910},\n",
    "    {\"name\": \"Amsterdam\", \"nodes\": 3, \"gpus_per_node\": 6, \"carbon-intensity-trace\": \"/scratch/cognit/carbon/NL.csv\", \"lat\": 52.3676, \"lon\": 4.9041},\n",
    "    {\"name\": \"Brussel\", \"nodes\": 4, \"gpus_per_node\": 4, \"carbon-intensity-trace\": \"/scratch/cognit/carbon/BE.csv\", \"lat\": 50.8503, \"lon\": 4.3517},\n",
    "    {\"name\": \"Berlin\", \"nodes\": 2, \"gpus_per_node\": 6, \"carbon-intensity-trace\": \"/scratch/cognit/carbon/DE.csv\", \"lat\": 52.5200, \"lon\": 13.4050},\n",
    "    {\"name\": \"Rome\", \"nodes\": 4, \"gpus_per_node\": 2, \"carbon-intensity-trace\": \"/scratch/cognit/carbon/IT-CSO.csv\", \"lat\": 41.9028, \"lon\": 12.4964},\n",
    "    {\"name\": \"Warsaw\", \"nodes\": 6, \"gpus_per_node\": 4, \"carbon-intensity-trace\": \"/scratch/cognit/carbon/PL.csv\", \"lat\": 52.2297, \"lon\": 21.0122},\n",
    "    {\"name\": \"Paris\", \"nodes\": 7, \"gpus_per_node\": 4, \"carbon-intensity-trace\": \"/scratch/cognit/carbon/FR.csv\", \"lat\": 48.8566, \"lon\": 2.3522},\n",
    "    {\"name\": \"London\", \"nodes\": 8, \"gpus_per_node\": 4, \"carbon-intensity-trace\": \"/scratch/cognit/carbon/GB.csv\", \"lat\": 51.5074, \"lon\": -0.1278},\n",
    "    {\"name\": \"Copenhagen\", \"nodes\": 2, \"gpus_per_node\": 6, \"carbon-intensity-trace\": \"/scratch/cognit/carbon/DK-DK2.csv\", \"lat\": 55.6761, \"lon\": 12.5683},\n",
    "    {\"name\": \"Oslo\", \"nodes\": 1, \"gpus_per_node\": 6, \"carbon-intensity-trace\": \"/scratch/cognit/carbon/NO-NO1.csv\", \"lat\": 59.9139, \"lon\": 10.7522},\n",
    "    {\"name\": \"Bergen\", \"nodes\": 3, \"gpus_per_node\": 2, \"carbon-intensity-trace\": \"/scratch/cognit/carbon/NO-NO5.csv\", \"lat\": 60.3913, \"lon\": 5.3221},\n",
    "    {\"name\": \"Budapest\", \"nodes\": 2, \"gpus_per_node\": 2, \"carbon-intensity-trace\": \"/scratch/cognit/carbon/HU.csv\", \"lat\": 47.4979, \"lon\": 19.0402},\n",
    "    {\"name\": \"Oulu\", \"nodes\": 4, \"gpus_per_node\": 2, \"carbon-intensity-trace\": \"/scratch/cognit/carbon/FI.csv\", \"lat\": 65.0121, \"lon\": 25.4651},\n",
    "    {\"name\": \"Athens\", \"nodes\": 4, \"gpus_per_node\": 4, \"carbon-intensity-trace\": \"/scratch/cognit/carbon/GR.csv\", \"lat\": 37.9838, \"lon\": 23.7275},\n",
    "    {\"name\": \"Vilnius\", \"nodes\": 1, \"gpus_per_node\": 4, \"carbon-intensity-trace\": \"/scratch/cognit/carbon/LT.csv\", \"lat\": 54.6872, \"lon\": 25.2797},\n",
    "    {\"name\": \"Riga\", \"nodes\": 1, \"gpus_per_node\": 2, \"carbon-intensity-trace\": \"/scratch/cognit/carbon/LV.csv\", \"lat\": 56.9496, \"lon\": 24.1052},\n",
    "    {\"name\": \"Vaduz\", \"nodes\": 1, \"gpus_per_node\": 1, \"carbon-intensity-trace\": \"/scratch/cognit/carbon/LI.csv\", \"lat\": 47.1410, \"lon\": 9.5209},\n",
    "    {\"name\": \"Luxembourg City\", \"nodes\": 1, \"gpus_per_node\": 1, \"carbon-intensity-trace\": \"/scratch/cognit/carbon/LU.csv\", \"lat\": 49.6117, \"lon\": 6.1319},\n",
    "    {\"name\": \"Tallinn\", \"nodes\": 1, \"gpus_per_node\": 6, \"carbon-intensity-trace\": \"/scratch/cognit/carbon/EE.csv\", \"lat\": 59.4370, \"lon\": 24.7535},\n",
    "    {\"name\": \"Zagreb\", \"nodes\": 2, \"gpus_per_node\": 2, \"carbon-intensity-trace\": \"/scratch/cognit/carbon/HR.csv\", \"lat\": 45.8150, \"lon\": 15.9819},\n",
    "    {\"name\": \"Prague\", \"nodes\": 5, \"gpus_per_node\": 2, \"carbon-intensity-trace\": \"/scratch/cognit/carbon/CZ.csv\", \"lat\": 50.0755, \"lon\": 14.4378},\n",
    "    {\"name\": \"Sofia\", \"nodes\": 5, \"gpus_per_node\": 1, \"carbon-intensity-trace\": \"/scratch/cognit/carbon/BG.csv\", \"lat\": 42.6977, \"lon\": 23.3219},\n",
    "    {\"name\": \"Zurich\", \"nodes\": 2, \"gpus_per_node\": 1, \"carbon-intensity-trace\": \"/scratch/cognit/carbon/CH.csv\", \"lat\": 47.3769, \"lon\": 8.5417},\n",
    "    {\"name\": \"Nicosia\", \"nodes\": 1, \"gpus_per_node\": 1, \"carbon-intensity-trace\": \"/scratch/cognit/carbon/CY.csv\", \"lat\": 35.1856, \"lon\": 33.3823},\n",
    "    {\"name\": \"Vienna\", \"nodes\": 1, \"gpus_per_node\": 6, \"carbon-intensity-trace\": \"/scratch/cognit/carbon/AT.csv\", \"lat\": 48.2082, \"lon\": 16.3738},\n",
    "    {\"name\": \"Reykjavik\", \"nodes\": 1, \"gpus_per_node\": 2, \"carbon-intensity-trace\": \"/scratch/cognit/carbon/IS.csv\", \"lat\": 64.1466, \"lon\": -21.9426},\n",
    "    {\"name\": \"Bratislava\", \"nodes\": 4, \"gpus_per_node\": 2, \"carbon-intensity-trace\": \"/scratch/cognit/carbon/SK.csv\", \"lat\": 48.1486, \"lon\": 17.1077},\n",
    "    {\"name\": \"Ljubljana\", \"nodes\": 4, \"gpus_per_node\": 2, \"carbon-intensity-trace\": \"/scratch/cognit/carbon/SI.csv\", \"lat\": 46.0569, \"lon\": 14.5058},\n",
    "    {\"name\": \"Valletta\", \"nodes\": 1, \"gpus_per_node\": 1, \"carbon-intensity-trace\": \"/scratch/cognit/carbon/MT.csv\", \"lat\": 35.8989, \"lon\": 14.5146},\n",
    "    {\"name\": \"Bucharest\", \"nodes\": 4, \"gpus_per_node\": 1, \"carbon-intensity-trace\": \"/scratch/cognit/carbon/RO.csv\", \"lat\": 44.4268, \"lon\": 26.1025},\n",
    "    {\"name\": \"Dublin\", \"nodes\": 4, \"gpus_per_node\": 2, \"carbon-intensity-trace\": \"/scratch/cognit/carbon/IE.csv\", \"lat\": 53.3498, \"lon\": -6.2603},\n",
    "    {\"name\": \"Trondheim\", \"nodes\": 4, \"gpus_per_node\": 6, \"carbon-intensity-trace\": \"/scratch/cognit/carbon/NO-NO3.csv\", \"lat\": 63.4305, \"lon\": 10.3951},\n",
    "    {\"name\": \"Tromso\", \"nodes\": 1, \"gpus_per_node\": 4, \"carbon-intensity-trace\": \"/scratch/cognit/carbon/NO-NO4.csv\", \"lat\": 69.6492, \"lon\": 18.9553},\n",
    "    {\"name\": \"Kristiansand\", \"nodes\": 1, \"gpus_per_node\": 4, \"carbon-intensity-trace\": \"/scratch/cognit/carbon/NO-NO2.csv\", \"lat\": 58.1599, \"lon\": 8.0182}\n",
    "]\n",
    "\n",
    "# Convert the list of clusters to a DataFrame\n",
    "df = pd.DataFrame(clusters)\n",
    "\n",
    "# Create a GeoDataFrame\n",
    "gdf = gpd.GeoDataFrame(df, geometry=gpd.points_from_xy(df.lon, df.lat))\n",
    "\n",
    "# Load a map of Europe\n",
    "#world = gpd.read_file(\"https://www.naturalearthdata.com/downloads/110m-cultural-vectors/\")\n",
    "\n",
    "world = gpd.read_file(gpd.datasets.get_path('naturalearth_lowres'))\n",
    "europe = world[(world.continent == \"Europe\")]\n",
    "\n",
    "# Plot the map\n",
    "fig, ax = plt.subplots(figsize=(15, 10))\n",
    "europe.boundary.plot(ax=ax)\n",
    "gdf.plot(ax=ax, color='red', markersize=50)\n",
    "\n",
    "# Annotate the points with the cluster names\n",
    "for x, y, label in zip(gdf.geometry.x, gdf.geometry.y, gdf.name):\n",
    "    ax.text(x, y, label, fontsize=12, ha='right')\n",
    "\n",
    "# Set limits to zoom in on Europe\n",
    "ax.set_xlim(-25, 40)\n",
    "ax.set_ylim(35, 72)\n",
    "\n",
    "ax.set_axis_off()\n",
    "plt.show()\n"
   ]
  }
 ],
 "metadata": {
  "kernelspec": {
   "display_name": "Python 3 (ipykernel)",
   "language": "python",
   "name": "python3"
  },
  "language_info": {
   "codemirror_mode": {
    "name": "ipython",
    "version": 3
   },
   "file_extension": ".py",
   "mimetype": "text/x-python",
   "name": "python",
   "nbconvert_exporter": "python",
   "pygments_lexer": "ipython3",
   "version": "3.8.10"
  }
 },
 "nbformat": 4,
 "nbformat_minor": 5
}
