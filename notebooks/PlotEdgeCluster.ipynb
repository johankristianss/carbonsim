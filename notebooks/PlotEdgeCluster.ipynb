{
 "cells": [
  {
   "cell_type": "code",
   "execution_count": 1,
   "id": "9099ddd9-1de7-4104-b5af-44d8da544555",
   "metadata": {},
   "outputs": [
    {
     "name": "stdout",
     "output_type": "stream",
     "text": [
      "Requirement already satisfied: geopandas in /usr/local/lib/python3.8/dist-packages (0.13.2)\n",
      "Requirement already satisfied: fiona in /usr/local/lib/python3.8/dist-packages (1.10.1)\n",
      "Requirement already satisfied: packaging in /usr/local/lib/python3.8/dist-packages (from geopandas) (23.1)\n",
      "Requirement already satisfied: pandas>=1.1.0 in /usr/local/lib/python3.8/dist-packages (from geopandas) (2.0.3)\n",
      "Requirement already satisfied: pyproj>=3.0.1 in /usr/local/lib/python3.8/dist-packages (from geopandas) (3.5.0)\n",
      "Requirement already satisfied: shapely>=1.7.1 in /usr/local/lib/python3.8/dist-packages (from geopandas) (2.0.6)\n",
      "Requirement already satisfied: attrs>=19.2.0 in /usr/local/lib/python3.8/dist-packages (from fiona) (24.2.0)\n",
      "Requirement already satisfied: certifi in /usr/lib/python3/dist-packages (from fiona) (2019.11.28)\n",
      "Requirement already satisfied: click~=8.0 in /usr/local/lib/python3.8/dist-packages (from fiona) (8.1.7)\n",
      "Requirement already satisfied: click-plugins>=1.0 in /usr/local/lib/python3.8/dist-packages (from fiona) (1.1.1)\n",
      "Requirement already satisfied: cligj>=0.5 in /usr/local/lib/python3.8/dist-packages (from fiona) (0.7.2)\n",
      "Requirement already satisfied: importlib-metadata in /usr/local/lib/python3.8/dist-packages (from fiona) (6.7.0)\n",
      "Requirement already satisfied: python-dateutil>=2.8.2 in /usr/local/lib/python3.8/dist-packages (from pandas>=1.1.0->geopandas) (2.9.0.post0)\n",
      "Requirement already satisfied: pytz>=2020.1 in /usr/local/lib/python3.8/dist-packages (from pandas>=1.1.0->geopandas) (2024.2)\n",
      "Requirement already satisfied: tzdata>=2022.1 in /usr/local/lib/python3.8/dist-packages (from pandas>=1.1.0->geopandas) (2024.2)\n",
      "Requirement already satisfied: numpy>=1.20.3 in /usr/local/lib/python3.8/dist-packages (from pandas>=1.1.0->geopandas) (1.24.3)\n",
      "Requirement already satisfied: zipp>=0.5 in /usr/local/lib/python3.8/dist-packages (from importlib-metadata->fiona) (3.15.0)\n",
      "Requirement already satisfied: six>=1.5 in /usr/lib/python3/dist-packages (from python-dateutil>=2.8.2->pandas>=1.1.0->geopandas) (1.14.0)\n",
      "\u001b[33mWARNING: Running pip as the 'root' user can result in broken permissions and conflicting behaviour with the system package manager, possibly rendering your system unusable.It is recommended to use a virtual environment instead: https://pip.pypa.io/warnings/venv. Use the --root-user-action option if you know what you are doing and want to suppress this warning.\u001b[0m\u001b[33m\n",
      "\u001b[0mNote: you may need to restart the kernel to use updated packages.\n"
     ]
    }
   ],
   "source": [
    "pip install --upgrade geopandas fiona"
   ]
  },
  {
   "cell_type": "code",
   "execution_count": 7,
   "id": "49b8e222-c038-4de1-9720-39d74337152c",
   "metadata": {},
   "outputs": [],
   "source": [
    "import geopandas as gpd\n",
    "import matplotlib.pyplot as plt\n",
    "from shapely.geometry import Point\n",
    "import pandas as pd\n",
    "\n",
    "# List of clusters with coordinates added\n",
    "clusters = [\n",
    "    {\"name\": \"Lulea\", \"nodes\": 6, \"gpus_per_node\": 2, \"carbon-intensity-trace\": \"./carbon/SE-SE4.csv\", \"lat\": 65.5848, \"lon\": 22.1547},\n",
    "    {\"name\": \"Stockholm\", \"nodes\": 2, \"gpus_per_node\": 4, \"carbon-intensity-trace\": \"./carbon/SE-SE3.csv\", \"lat\": 59.3293, \"lon\": 18.0686},\n",
    "    {\"name\": \"Lund\", \"nodes\": 3, \"gpus_per_node\": 4, \"carbon-intensity-trace\": \"./carbon/SE-SE4.csv\", \"lat\": 55.7047, \"lon\": 13.1910},\n",
    "    {\"name\": \"Amsterdam\", \"nodes\": 3, \"gpus_per_node\": 6, \"carbon-intensity-trace\": \"./carbon/NL.csv\", \"lat\": 52.3676, \"lon\": 4.9041},\n",
    "    {\"name\": \"Brussel\", \"nodes\": 4, \"gpus_per_node\": 4, \"carbon-intensity-trace\": \"./carbon/BE.csv\", \"lat\": 50.8503, \"lon\": 4.3517},\n",
    "    {\"name\": \"Berlin\", \"nodes\": 2, \"gpus_per_node\": 6, \"carbon-intensity-trace\": \"./carbon/DE.csv\", \"lat\": 52.5200, \"lon\": 13.4050},\n",
    "    {\"name\": \"Rome\", \"nodes\": 4, \"gpus_per_node\": 2, \"carbon-intensity-trace\": \"./carbon/IT-CSO.csv\", \"lat\": 41.9028, \"lon\": 12.4964},\n",
    "    {\"name\": \"Warsaw\", \"nodes\": 6, \"gpus_per_node\": 4, \"carbon-intensity-trace\": \"./carbon/PL.csv\", \"lat\": 52.2297, \"lon\": 21.0122},\n",
    "    {\"name\": \"Paris\", \"nodes\": 7, \"gpus_per_node\": 4, \"carbon-intensity-trace\": \"./carbon/FR.csv\", \"lat\": 48.8566, \"lon\": 2.3522},\n",
    "    {\"name\": \"London\", \"nodes\": 8, \"gpus_per_node\": 4, \"carbon-intensity-trace\": \"./carbon/GB.csv\", \"lat\": 51.5074, \"lon\": -0.1278},\n",
    "    {\"name\": \"Copenhagen\", \"nodes\": 2, \"gpus_per_node\": 6, \"carbon-intensity-trace\": \"./carbon/DK-DK2.csv\", \"lat\": 55.6761, \"lon\": 12.5683},\n",
    "    {\"name\": \"Oslo\", \"nodes\": 1, \"gpus_per_node\": 6, \"carbon-intensity-trace\": \"./carbon/NO-NO1.csv\", \"lat\": 59.9139, \"lon\": 10.7522},\n",
    "    {\"name\": \"Bergen\", \"nodes\": 3, \"gpus_per_node\": 2, \"carbon-intensity-trace\": \"./carbon/NO-NO5.csv\", \"lat\": 60.3913, \"lon\": 5.3221},\n",
    "    {\"name\": \"Budapest\", \"nodes\": 2, \"gpus_per_node\": 2, \"carbon-intensity-trace\": \"./carbon/HU.csv\", \"lat\": 47.4979, \"lon\": 19.0402},\n",
    "    {\"name\": \"Oulu\", \"nodes\": 4, \"gpus_per_node\": 2, \"carbon-intensity-trace\": \"./carbon/FI.csv\", \"lat\": 65.0121, \"lon\": 25.4651},\n",
    "    {\"name\": \"Athens\", \"nodes\": 4, \"gpus_per_node\": 4, \"carbon-intensity-trace\": \"./carbon/GR.csv\", \"lat\": 37.9838, \"lon\": 23.7275},\n",
    "    {\"name\": \"Vilnius\", \"nodes\": 1, \"gpus_per_node\": 4, \"carbon-intensity-trace\": \"./carbon/LT.csv\", \"lat\": 54.6872, \"lon\": 25.2797},\n",
    "    {\"name\": \"Riga\", \"nodes\": 1, \"gpus_per_node\": 2, \"carbon-intensity-trace\": \"./carbon/LV.csv\", \"lat\": 56.9496, \"lon\": 24.1052},\n",
    "    {\"name\": \"Vaduz\", \"nodes\": 1, \"gpus_per_node\": 1, \"carbon-intensity-trace\": \"./carbon/LI.csv\", \"lat\": 47.1410, \"lon\": 9.5209},\n",
    "    {\"name\": \"Luxembourg City\", \"nodes\": 1, \"gpus_per_node\": 1, \"carbon-intensity-trace\": \"./carbon/LU.csv\", \"lat\": 49.6117, \"lon\": 6.1319},\n",
    "    {\"name\": \"Tallinn\", \"nodes\": 1, \"gpus_per_node\": 6, \"carbon-intensity-trace\": \"./carbon/EE.csv\", \"lat\": 59.4370, \"lon\": 24.7535},\n",
    "    {\"name\": \"Zagreb\", \"nodes\": 2, \"gpus_per_node\": 2, \"carbon-intensity-trace\": \"./carbon/HR.csv\", \"lat\": 45.8150, \"lon\": 15.9819},\n",
    "    {\"name\": \"Prague\", \"nodes\": 5, \"gpus_per_node\": 2, \"carbon-intensity-trace\": \"./carbon/CZ.csv\", \"lat\": 50.0755, \"lon\": 14.4378},\n",
    "    {\"name\": \"Sofia\", \"nodes\": 5, \"gpus_per_node\": 1, \"carbon-intensity-trace\": \"./carbon/BG.csv\", \"lat\": 42.6977, \"lon\": 23.3219},\n",
    "    {\"name\": \"Zurich\", \"nodes\": 2, \"gpus_per_node\": 1, \"carbon-intensity-trace\": \"./carbon/CH.csv\", \"lat\": 47.3769, \"lon\": 8.5417},\n",
    "    {\"name\": \"Nicosia\", \"nodes\": 1, \"gpus_per_node\": 1, \"carbon-intensity-trace\": \"./carbon/CY.csv\", \"lat\": 35.1856, \"lon\": 33.3823},\n",
    "    {\"name\": \"Vienna\", \"nodes\": 1, \"gpus_per_node\": 6, \"carbon-intensity-trace\": \"./carbon/AT.csv\", \"lat\": 48.2082, \"lon\": 16.3738},\n",
    "    {\"name\": \"Reykjavik\", \"nodes\": 1, \"gpus_per_node\": 2, \"carbon-intensity-trace\": \"./carbon/IS.csv\", \"lat\": 64.1466, \"lon\": -21.9426},\n",
    "    {\"name\": \"Bratislava\", \"nodes\": 4, \"gpus_per_node\": 2, \"carbon-intensity-trace\": \"./cognit/carbon/SK.csv\", \"lat\": 48.1486, \"lon\": 17.1077},\n",
    "    {\"name\": \"Ljubljana\", \"nodes\": 4, \"gpus_per_node\": 2, \"carbon-intensity-trace\": \"./carbon/SI.csv\", \"lat\": 46.0569, \"lon\": 14.5058},\n",
    "    {\"name\": \"Valletta\", \"nodes\": 1, \"gpus_per_node\": 1, \"carbon-intensity-trace\": \"./carbon/MT.csv\", \"lat\": 35.8989, \"lon\": 14.5146},\n",
    "    {\"name\": \"Bucharest\", \"nodes\": 4, \"gpus_per_node\": 1, \"carbon-intensity-trace\": \"./carbon/RO.csv\", \"lat\": 44.4268, \"lon\": 26.1025},\n",
    "    {\"name\": \"Dublin\", \"nodes\": 4, \"gpus_per_node\": 2, \"carbon-intensity-trace\": \"./carbon/IE.csv\", \"lat\": 53.3498, \"lon\": -6.2603},\n",
    "    {\"name\": \"Trondheim\", \"nodes\": 4, \"gpus_per_node\": 6, \"carbon-intensity-trace\": \"./carbon/NO-NO3.csv\", \"lat\": 63.4305, \"lon\": 10.3951},\n",
    "    {\"name\": \"Tromso\", \"nodes\": 1, \"gpus_per_node\": 4, \"carbon-intensity-trace\": \"./carbon/NO-NO4.csv\", \"lat\": 69.6492, \"lon\": 18.9553},\n",
    "    {\"name\": \"Kristiansand\", \"nodes\": 1, \"gpus_per_node\": 4, \"carbon-intensity-trace\": \"./carbon/NO-NO2.csv\", \"lat\": 58.1599, \"lon\": 8.0182}\n",
    "]"
   ]
  },
  {
   "cell_type": "code",
   "execution_count": 8,
   "id": "0a53fdcb-8f29-4f28-b751-6c56f4a7c1cb",
   "metadata": {},
   "outputs": [],
   "source": [
    "import folium\n",
    "\n",
    "# Initialize a map centered in Europe\n",
    "m = folium.Map(location=[54.5260, 15.2551], zoom_start=4)\n",
    "\n",
    "# Add markers for each cluster\n",
    "for cluster in clusters:\n",
    "    name = cluster[\"name\"]\n",
    "    lat = cluster[\"lat\"]\n",
    "    lon = cluster[\"lon\"]\n",
    "    nodes = cluster[\"nodes\"]\n",
    "    gpus = cluster[\"gpus_per_node\"]\n",
    "    carbon_trace = cluster[\"carbon-intensity-trace\"]\n",
    "    \n",
    "    # Create a popup with cluster details\n",
    "    popup_text = f\"\"\"\n",
    "    <b>Cluster Name:</b> {name}<br>\n",
    "    <b>Nodes:</b> {nodes}<br>\n",
    "    <b>GPUs per Node:</b> {gpus}<br>\n",
    "    <b>Carbon Intensity Trace:</b> {carbon_trace}\n",
    "    \"\"\"\n",
    "    popup = folium.Popup(popup_text, max_width=300)\n",
    "    \n",
    "    # Add a marker\n",
    "    folium.Marker(\n",
    "        location=[lat, lon],\n",
    "        popup=popup,\n",
    "        tooltip=name,\n",
    "        icon=folium.Icon(color=\"blue\", icon=\"info-sign\"),\n",
    "    ).add_to(m)\n",
    "\n",
    "# Display the map\n",
    "m.save(\"clusters_map.html\")\n"
   ]
  }
 ],
 "metadata": {
  "kernelspec": {
   "display_name": "Python 3 (ipykernel)",
   "language": "python",
   "name": "python3"
  },
  "language_info": {
   "codemirror_mode": {
    "name": "ipython",
    "version": 3
   },
   "file_extension": ".py",
   "mimetype": "text/x-python",
   "name": "python",
   "nbconvert_exporter": "python",
   "pygments_lexer": "ipython3",
   "version": "3.8.10"
  }
 },
 "nbformat": 4,
 "nbformat_minor": 5
}
