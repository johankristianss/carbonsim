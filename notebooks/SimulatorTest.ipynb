{
 "cells": [
  {
   "cell_type": "code",
   "execution_count": null,
   "id": "ceeab421-a756-4257-9f9b-3968898e7fac",
   "metadata": {},
   "outputs": [],
   "source": [
    "import os\n",
    "import pandas as pd\n",
    "import queue\n",
    "import time\n",
    "\n",
    "def get_sorted_filenames(directory):\n",
    "    filenames = os.listdir(directory)\n",
    "    csv_filenames = [f for f in filenames if f.endswith('.csv')]\n",
    "    sorted_filenames = sorted(csv_filenames, key=lambda x: int(x.split('.')[0]))\n",
    "    return sorted_filenames\n",
    "\n",
    "def process_file(filepath):\n",
    "    df = pd.read_csv(filepath)\n",
    "    if 'cpus_req' in df.columns and 'timelimit' in df.columns:\n",
    "        print(f\"Processing file: {filepath}\")\n",
    "        for index, row in df.iterrows():\n",
    "            print(f\"Row {index} - cpus_req: {row['cpus_req']}\")\n",
    "            time.sleep(1) \n",
    "    else:\n",
    "        print(f\"'cpus_req' or 'timelimit' column not found in file: {filepath}\")\n",
    "        yield None\n",
    "\n",
    "def replay_simulator(directory, max_files=100):\n",
    "    sorted_filenames = get_sorted_filenames(directory)\n",
    "    file_queue = queue.Queue()\n",
    "    for filename in sorted_filenames:\n",
    "        file_queue.put(filename)\n",
    "\n",
    "    processed_count = 0\n",
    "    while not file_queue.empty() and processed_count < max_files:\n",
    "        filename = file_queue.get()\n",
    "        filepath = os.path.join(directory, filename)\n",
    "        \n",
    "        process_file(filepath):\n",
    "\n",
    "        file_queue.task_done()\n",
    "        processed_count += 1\n",
    "\n",
    "if __name__ == \"__main__\":\n",
    "    directory = \"/scratch/cognit/workloads\"\n",
    "    replay_simulator(directory, max_files=100)\n"
   ]
  }
 ],
 "metadata": {
  "kernelspec": {
   "display_name": "Python 3 (ipykernel)",
   "language": "python",
   "name": "python3"
  },
  "language_info": {
   "codemirror_mode": {
    "name": "ipython",
    "version": 3
   },
   "file_extension": ".py",
   "mimetype": "text/x-python",
   "name": "python",
   "nbconvert_exporter": "python",
   "pygments_lexer": "ipython3",
   "version": "3.8.10"
  }
 },
 "nbformat": 4,
 "nbformat_minor": 5
}
